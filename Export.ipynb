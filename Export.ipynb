{
 "cells": [
  {
   "cell_type": "code",
   "execution_count": 30,
   "metadata": {},
   "outputs": [],
   "source": [
    "from datetime import datetime\n",
    "import os\n",
    "import pandas"
   ]
  },
  {
   "cell_type": "code",
   "execution_count": 31,
   "metadata": {},
   "outputs": [],
   "source": [
    "dir = os.scandir('raw/')\n",
    "experiments = list(filter(lambda x: x.is_dir() and x.name[0] != '.', dir))\n"
   ]
  },
  {
   "cell_type": "code",
   "execution_count": 32,
   "metadata": {},
   "outputs": [],
   "source": [
    "for experiment in experiments:\n",
    "    if os.path.exists(f'{experiment.path}/design.csv'):\n",
    "        jobs = pandas.read_csv(f'{experiment.path}/design.csv')\n",
    "        jobs.columns.values[0] = 'Index'\n",
    "        jobs = jobs[jobs.Index >= 0]\n",
    "        time = os.stat(f'{experiment.path}/design.csv').st_mtime\n",
    "        datetime = datetime.fromtimestamp(time)\n",
    "        jobs.to_csv(f'ex-{datetime.strftime(\"%Y-%m-%d_%H:%M\")}.csv')"
   ]
  }
 ],
 "metadata": {
  "kernelspec": {
   "display_name": "Python 3",
   "language": "python",
   "name": "python3"
  },
  "language_info": {
   "codemirror_mode": {
    "name": "ipython",
    "version": 3
   },
   "file_extension": ".py",
   "mimetype": "text/x-python",
   "name": "python",
   "nbconvert_exporter": "python",
   "pygments_lexer": "ipython3",
   "version": "3.7.3"
  }
 },
 "nbformat": 4,
 "nbformat_minor": 2
}
